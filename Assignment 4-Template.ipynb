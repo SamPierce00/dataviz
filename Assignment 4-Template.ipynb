{
 "cells": [
  {
   "cell_type": "code",
   "execution_count": null,
   "id": "8cffb35a-56a2-4398-845a-78a63c9cff67",
   "metadata": {},
   "outputs": [],
   "source": [
    "import numpy as np\n",
    "import pandas as pd\n",
    "from sklearn.cluster import KMeans\n",
    "import matplotlib.pyplot as plt\n",
    "import warnings\n",
    "warnings.filterwarnings(\"ignore\")"
   ]
  },
  {
   "cell_type": "markdown",
   "id": "46682283-ce65-4b06-beea-af8f779122a3",
   "metadata": {},
   "source": [
    "In this assignment, we focus on the ```heart failure clinical records``` dataset from [UCI Machine Learning repository](https://archive-beta.ics.uci.edu/). It includes the medical records of 299 patients who had heart failure, collected during their follow-up period, where each patient profile has 13 clinical features, and you can access more information about this dataset  [here](https://archive-beta.ics.uci.edu/dataset/519/heart+failure+clinical+records)\n",
    "\n"
   ]
  },
  {
   "cell_type": "code",
   "execution_count": null,
   "id": "7fee1123-4e96-4027-ae70-8802e15b2dee",
   "metadata": {},
   "outputs": [],
   "source": [
    "heart=pd.read_csv('heart_failure_clinical_records_dataset.csv')\n",
    "#n_true_clusters = len(set(labels_iris))\n",
    "#print(n_true_clusters)"
   ]
  },
  {
   "cell_type": "code",
   "execution_count": null,
   "id": "847cd515-08a5-4f84-90b7-0eafe23f8065",
   "metadata": {},
   "outputs": [],
   "source": [
    "heart.head()"
   ]
  },
  {
   "cell_type": "markdown",
   "id": "dc7b28d5-e558-4970-98cb-eb625d7393ac",
   "metadata": {},
   "source": [
    "As you can see, this is a labeled dataset that can also be used for classification purposes. The target variable is ```DEATH_EVENT```, showing whether the patient survived heart failure event.However, for this assignment,our goal is to cluster the features."
   ]
  },
  {
   "cell_type": "code",
   "execution_count": null,
   "id": "14763ea4-43ba-4cee-bd69-31de6cbd9ed9",
   "metadata": {},
   "outputs": [],
   "source": [
    "death= heart['DEATH_EVENT']"
   ]
  },
  {
   "cell_type": "markdown",
   "id": "53da19f2-c811-4042-b6f0-4564bd41fa2d",
   "metadata": {},
   "source": [
    "1- To start, focus only on numerical attributes. Filter out the df to include the below attributes only."
   ]
  },
  {
   "cell_type": "code",
   "execution_count": null,
   "id": "a9a1e87e-93a7-4df7-8348-942d47936c97",
   "metadata": {},
   "outputs": [],
   "source": [
    "columns= ['platelets','serum_creatinine','serum_sodium', 'time' ]"
   ]
  },
  {
   "cell_type": "code",
   "execution_count": null,
   "id": "bb1f0e75-d0db-4910-8c63-b51b6483c9f7",
   "metadata": {},
   "outputs": [],
   "source": [
    "heart_filtered = "
   ]
  },
  {
   "cell_type": "markdown",
   "id": "f9649c80-12c3-4eb9-ba52-fb6d41ba8847",
   "metadata": {},
   "source": [
    "2- Take care of any potential outliers or missing values (if any). Be careful if you are filtering out the outliers; you should remove those observations from the target data frame too, so the length of both data frames will match."
   ]
  },
  {
   "cell_type": "code",
   "execution_count": null,
   "id": "ba547877-b08e-4c64-a272-5155de295b20",
   "metadata": {},
   "outputs": [],
   "source": [
    "heart_cleaned = "
   ]
  },
  {
   "cell_type": "markdown",
   "id": "2aa4c90a-51c2-4632-9fdd-d360fb8e7504",
   "metadata": {},
   "source": [
    "Check how many outliers you removed"
   ]
  },
  {
   "cell_type": "code",
   "execution_count": null,
   "id": "a18fc2e6-7b84-411a-bc0a-d2a66406458f",
   "metadata": {},
   "outputs": [],
   "source": [
    "print('Number of rows before cleaning: {}'.format(heart_filtered.shape[0]))\n",
    "print('Number of rows after cleaning: {}'.format(heart_cleaned.shape[0]))"
   ]
  },
  {
   "cell_type": "markdown",
   "id": "8ce1260e-e862-4e35-9d86-127146ce90bf",
   "metadata": {},
   "source": [
    "3- Scale the cleaned dataset using StandardScaler"
   ]
  },
  {
   "cell_type": "code",
   "execution_count": null,
   "id": "75b15468-ea04-4979-b030-483e458f9864",
   "metadata": {},
   "outputs": [],
   "source": [
    "from sklearn.preprocessing import StandardScaler\n",
    "heart_scaled = "
   ]
  },
  {
   "cell_type": "markdown",
   "id": "a71dc488-0b70-4f09-9fb6-b341f6abb20b",
   "metadata": {},
   "source": [
    "4- Perform some exploration by visualizing pairs of attributes and color the  points using true labels (death column) to see if you can detect any potential clusters visually. Summerize your analysis of this part"
   ]
  },
  {
   "cell_type": "code",
   "execution_count": null,
   "id": "033be68a-63c2-42d0-b5a8-8617315b0924",
   "metadata": {},
   "outputs": [],
   "source": []
  },
  {
   "cell_type": "markdown",
   "id": "8d45fe97-73b8-4f98-a8e2-6ba99ab23a58",
   "metadata": {},
   "source": [
    "5- Now apply the K-means clustering on the scaled dataset. Use a range of different K and plot both Inertias and Average Silhouette coefficients for given K values.\n",
    "Interpret the plots. How many clusters return the most decent clusters "
   ]
  },
  {
   "cell_type": "code",
   "execution_count": null,
   "id": "85b098f7-fe19-4b83-a254-5a41db93041b",
   "metadata": {},
   "outputs": [],
   "source": []
  },
  {
   "cell_type": "markdown",
   "id": "23c85c6d-a3e5-4a64-b80a-2d3c41527990",
   "metadata": {},
   "source": [
    "6- Interprete the typical patients of each cluster for the selected value of K found in question 4, through reverse standard scaler transformation of centroid vectors"
   ]
  },
  {
   "cell_type": "code",
   "execution_count": null,
   "id": "b4d20e3a-9a2c-4db1-a460-c6a1b2485852",
   "metadata": {},
   "outputs": [],
   "source": []
  },
  {
   "cell_type": "markdown",
   "id": "cca4ac41-7560-4e5d-8d88-37cfb692d27a",
   "metadata": {},
   "source": [
    "7- Apply PCA on the scaled dataset and plot the cumulative explained variance; explain how many principle components we need to preserve 80% of the information."
   ]
  },
  {
   "cell_type": "code",
   "execution_count": null,
   "id": "9b60d055-81f2-4279-a1fd-c39355477653",
   "metadata": {},
   "outputs": [],
   "source": []
  },
  {
   "cell_type": "markdown",
   "id": "ce8a6e13-43da-471a-bb8d-37d28db2ac69",
   "metadata": {},
   "source": [
    "8- Use only the first two PCs and plot and color data points using the death status. Interpret this plot. Do you observe distinct clusters? "
   ]
  },
  {
   "cell_type": "code",
   "execution_count": null,
   "id": "4208796c-be69-4707-96b1-debc8077d35a",
   "metadata": {},
   "outputs": [],
   "source": []
  },
  {
   "cell_type": "markdown",
   "id": "1b9f30fc-43ad-4227-947e-23d5daa8daa9",
   "metadata": {},
   "source": [
    "9- Repeat questions 5 and 6 on PCA-transformed data from the first two PCs. To repeat question 6, you have to reverse both PCA and ScandardScaler transformations "
   ]
  },
  {
   "cell_type": "code",
   "execution_count": null,
   "id": "062d1f40-3026-416e-b244-324f0b2d81e1",
   "metadata": {},
   "outputs": [],
   "source": []
  },
  {
   "cell_type": "markdown",
   "id": "4fd27277-f24a-44d3-869f-5b98eadd340f",
   "metadata": {},
   "source": [
    "10- Compare and interprete the result of clustering with and without PCA transformation "
   ]
  },
  {
   "cell_type": "code",
   "execution_count": null,
   "id": "0a20269a-e6ac-42e5-b7d4-fc5f5b712e7a",
   "metadata": {},
   "outputs": [],
   "source": []
  }
 ],
 "metadata": {
  "kernelspec": {
   "display_name": "Python 3 (ipykernel)",
   "language": "python",
   "name": "python3"
  },
  "language_info": {
   "codemirror_mode": {
    "name": "ipython",
    "version": 3
   },
   "file_extension": ".py",
   "mimetype": "text/x-python",
   "name": "python",
   "nbconvert_exporter": "python",
   "pygments_lexer": "ipython3",
   "version": "3.10.9"
  }
 },
 "nbformat": 4,
 "nbformat_minor": 5
}
