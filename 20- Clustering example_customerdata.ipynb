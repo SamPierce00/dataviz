{
 "cells": [
  {
   "cell_type": "code",
   "execution_count": 1,
   "id": "3f4d55e0-ca26-4a87-a33c-b04ebc7f85d5",
   "metadata": {},
   "outputs": [],
   "source": [
    "import seaborn as sns\n",
    "import numpy as np\n",
    "from sklearn.cluster import KMeans\n",
    "import matplotlib.pyplot as plt\n",
    "import warnings\n",
    "warnings.filterwarnings(\"ignore\")"
   ]
  },
  {
   "cell_type": "markdown",
   "id": "a5a7f041-ccdd-45ef-b580-bb023409916c",
   "metadata": {
    "slideshow": null,
    "tags": []
   },
   "source": [
    "## Clustering on customers data"
   ]
  },
  {
   "cell_type": "markdown",
   "id": "34e64cfe-d43f-4484-ba91-a1e2f37eb61a",
   "metadata": {
    "slideshow": null
   },
   "source": [
    "**Clustering customers based on their behavior** or other characteristics is a crucial aspect that allows a business to know their market, better tailor marketing efforts, and improve product development strategies. Let's look at the data set containing wholesale customers purchasing information that contains data about customers' annual spending on different products.\n",
    "\n",
    "Let's load in the data we will be working with and inspect the first couple of rows."
   ]
  },
  {
   "cell_type": "code",
   "execution_count": 2,
   "id": "43100232-899b-4b10-987d-0ac0d9cffa8f",
   "metadata": {
    "slideshow": null
   },
   "outputs": [],
   "source": [
    "import pandas as pd\n",
    "\n",
    "df_wholesale = pd.read_csv('Wholesale_customers.csv')"
   ]
  },
  {
   "cell_type": "code",
   "execution_count": 3,
   "id": "0dbb6f59-6ef1-4a2a-ae27-8ccf9d11ebeb",
   "metadata": {
    "slideshow": null
   },
   "outputs": [
    {
     "data": {
      "text/html": [
       "<div>\n",
       "<style scoped>\n",
       "    .dataframe tbody tr th:only-of-type {\n",
       "        vertical-align: middle;\n",
       "    }\n",
       "\n",
       "    .dataframe tbody tr th {\n",
       "        vertical-align: top;\n",
       "    }\n",
       "\n",
       "    .dataframe thead th {\n",
       "        text-align: right;\n",
       "    }\n",
       "</style>\n",
       "<table border=\"1\" class=\"dataframe\">\n",
       "  <thead>\n",
       "    <tr style=\"text-align: right;\">\n",
       "      <th></th>\n",
       "      <th>Channel</th>\n",
       "      <th>Region</th>\n",
       "      <th>Fresh</th>\n",
       "      <th>Milk</th>\n",
       "      <th>Grocery</th>\n",
       "      <th>Frozen</th>\n",
       "      <th>Detergents_Paper</th>\n",
       "      <th>Delicatessen</th>\n",
       "    </tr>\n",
       "  </thead>\n",
       "  <tbody>\n",
       "    <tr>\n",
       "      <th>0</th>\n",
       "      <td>0</td>\n",
       "      <td>3</td>\n",
       "      <td>12669</td>\n",
       "      <td>9656</td>\n",
       "      <td>7561</td>\n",
       "      <td>214</td>\n",
       "      <td>2674</td>\n",
       "      <td>1338</td>\n",
       "    </tr>\n",
       "    <tr>\n",
       "      <th>1</th>\n",
       "      <td>0</td>\n",
       "      <td>3</td>\n",
       "      <td>7057</td>\n",
       "      <td>9810</td>\n",
       "      <td>9568</td>\n",
       "      <td>1762</td>\n",
       "      <td>3293</td>\n",
       "      <td>1776</td>\n",
       "    </tr>\n",
       "    <tr>\n",
       "      <th>2</th>\n",
       "      <td>0</td>\n",
       "      <td>3</td>\n",
       "      <td>6353</td>\n",
       "      <td>8808</td>\n",
       "      <td>7684</td>\n",
       "      <td>2405</td>\n",
       "      <td>3516</td>\n",
       "      <td>7844</td>\n",
       "    </tr>\n",
       "    <tr>\n",
       "      <th>3</th>\n",
       "      <td>1</td>\n",
       "      <td>3</td>\n",
       "      <td>13265</td>\n",
       "      <td>1196</td>\n",
       "      <td>4221</td>\n",
       "      <td>6404</td>\n",
       "      <td>507</td>\n",
       "      <td>1788</td>\n",
       "    </tr>\n",
       "    <tr>\n",
       "      <th>4</th>\n",
       "      <td>0</td>\n",
       "      <td>3</td>\n",
       "      <td>22615</td>\n",
       "      <td>5410</td>\n",
       "      <td>7198</td>\n",
       "      <td>3915</td>\n",
       "      <td>1777</td>\n",
       "      <td>5185</td>\n",
       "    </tr>\n",
       "  </tbody>\n",
       "</table>\n",
       "</div>"
      ],
      "text/plain": [
       "   Channel  Region  Fresh  Milk  Grocery  Frozen  Detergents_Paper  \\\n",
       "0        0       3  12669  9656     7561     214              2674   \n",
       "1        0       3   7057  9810     9568    1762              3293   \n",
       "2        0       3   6353  8808     7684    2405              3516   \n",
       "3        1       3  13265  1196     4221    6404               507   \n",
       "4        0       3  22615  5410     7198    3915              1777   \n",
       "\n",
       "   Delicatessen  \n",
       "0          1338  \n",
       "1          1776  \n",
       "2          7844  \n",
       "3          1788  \n",
       "4          5185  "
      ]
     },
     "execution_count": 3,
     "metadata": {},
     "output_type": "execute_result"
    }
   ],
   "source": [
    "df_wholesale.head()"
   ]
  },
  {
   "cell_type": "markdown",
   "id": "aa8b5db2-b57d-4c33-b2ef-824f2d3f455e",
   "metadata": {
    "slideshow": null
   },
   "source": [
    "The '`Channel`' describes whether a customer is a hotel/restaurant/cafe or not and '`Region`' describes where they are from. For the purpose of clustering our customers we will only focus on their spending habits, so we will only use  information about customers annual spending (reported in euros) on fresh products, milk products, grocery, frozen products, detergents and paper products, and delicatessen products."
   ]
  },
  {
   "cell_type": "code",
   "execution_count": 4,
   "id": "4f1ee459-b48b-421a-8b67-b56f93938761",
   "metadata": {
    "slideshow": null
   },
   "outputs": [
    {
     "data": {
      "text/html": [
       "<div>\n",
       "<style scoped>\n",
       "    .dataframe tbody tr th:only-of-type {\n",
       "        vertical-align: middle;\n",
       "    }\n",
       "\n",
       "    .dataframe tbody tr th {\n",
       "        vertical-align: top;\n",
       "    }\n",
       "\n",
       "    .dataframe thead th {\n",
       "        text-align: right;\n",
       "    }\n",
       "</style>\n",
       "<table border=\"1\" class=\"dataframe\">\n",
       "  <thead>\n",
       "    <tr style=\"text-align: right;\">\n",
       "      <th></th>\n",
       "      <th>Fresh</th>\n",
       "      <th>Milk</th>\n",
       "      <th>Grocery</th>\n",
       "      <th>Frozen</th>\n",
       "      <th>Detergents_Paper</th>\n",
       "      <th>Delicatessen</th>\n",
       "    </tr>\n",
       "  </thead>\n",
       "  <tbody>\n",
       "    <tr>\n",
       "      <th>0</th>\n",
       "      <td>12669</td>\n",
       "      <td>9656</td>\n",
       "      <td>7561</td>\n",
       "      <td>214</td>\n",
       "      <td>2674</td>\n",
       "      <td>1338</td>\n",
       "    </tr>\n",
       "    <tr>\n",
       "      <th>1</th>\n",
       "      <td>7057</td>\n",
       "      <td>9810</td>\n",
       "      <td>9568</td>\n",
       "      <td>1762</td>\n",
       "      <td>3293</td>\n",
       "      <td>1776</td>\n",
       "    </tr>\n",
       "    <tr>\n",
       "      <th>2</th>\n",
       "      <td>6353</td>\n",
       "      <td>8808</td>\n",
       "      <td>7684</td>\n",
       "      <td>2405</td>\n",
       "      <td>3516</td>\n",
       "      <td>7844</td>\n",
       "    </tr>\n",
       "    <tr>\n",
       "      <th>3</th>\n",
       "      <td>13265</td>\n",
       "      <td>1196</td>\n",
       "      <td>4221</td>\n",
       "      <td>6404</td>\n",
       "      <td>507</td>\n",
       "      <td>1788</td>\n",
       "    </tr>\n",
       "    <tr>\n",
       "      <th>4</th>\n",
       "      <td>22615</td>\n",
       "      <td>5410</td>\n",
       "      <td>7198</td>\n",
       "      <td>3915</td>\n",
       "      <td>1777</td>\n",
       "      <td>5185</td>\n",
       "    </tr>\n",
       "  </tbody>\n",
       "</table>\n",
       "</div>"
      ],
      "text/plain": [
       "   Fresh  Milk  Grocery  Frozen  Detergents_Paper  Delicatessen\n",
       "0  12669  9656     7561     214              2674          1338\n",
       "1   7057  9810     9568    1762              3293          1776\n",
       "2   6353  8808     7684    2405              3516          7844\n",
       "3  13265  1196     4221    6404               507          1788\n",
       "4  22615  5410     7198    3915              1777          5185"
      ]
     },
     "execution_count": 4,
     "metadata": {},
     "output_type": "execute_result"
    }
   ],
   "source": [
    "df_spending = df_wholesale.iloc[:, 2:]\n",
    "df_spending.head()"
   ]
  },
  {
   "cell_type": "markdown",
   "id": "244bd0c6-b0be-4a0d-9b31-6034397c31db",
   "metadata": {
    "slideshow": null
   },
   "source": [
    "We want to get a general idea of what kinds of customers we have in this data. To do so, our plan will be to organize this data into groups, such that customers in the same group are more similar to one another than they are to customers in other groups. Then, we might see, for instance, that one group tends to buy a lot of milk products and not many detergents and paper products. Based on these preferences, we can obtain some insight into defining characteristics of our customer base. \n",
    "\n",
    "Clustering is *not* classification. There are no true values we're trying to predict, and we don't know how many groups are appropriate to identify in the data. Instead, clustering gives us a set of methods for defining clusters and a set of metrics for evaluating how well those clusters partition the data, and it is left to us as data scientists to assess the clusters and find insights. "
   ]
  },
  {
   "cell_type": "markdown",
   "id": "6819985f-9e7e-4602-b87a-74b3a3bb329d",
   "metadata": {
    "slideshow": null
   },
   "source": [
    "Now we are ready to fit a K-Means model to our customers' data. Let's prepare the data before we feed it into the clustering algorithm. We will first filter out any outliers from the data. Outliers are not such a big problem in this data set, but the results will improve if we make this the first step."
   ]
  },
  {
   "cell_type": "code",
   "execution_count": 5,
   "id": "26e0e59b-1209-4d08-9c18-3708d8d3e557",
   "metadata": {},
   "outputs": [],
   "source": [
    "import itertools\n",
    "import numpy as np\n",
    "\n",
    "def filter_outliers(df):\n",
    "    outliers_list  = []\n",
    "\n",
    "    for feature in df.columns:\n",
    "        Q1 = np.percentile(df.loc[:, feature], 25)\n",
    "\n",
    "        Q3 = np.percentile(df.loc[:, feature], 75)\n",
    "\n",
    "        step = 1.5 * (Q3 - Q1)\n",
    "\n",
    "        outliers_found = df.loc[~((df[feature] >= Q1 - step) & (df[feature] <= Q3 + step)), :]\n",
    "\n",
    "        outliers_list.append(list(outliers_found.index))\n",
    "\n",
    "    outliers = list(itertools.chain.from_iterable(outliers_list))\n",
    "    \n",
    "    uniq_outliers = list(set(outliers))\n",
    "\n",
    "    dup_outliers = list(set([x for x in outliers if outliers.count(x) > 1]))\n",
    "\n",
    "    filtered_df = df.drop(df.index[dup_outliers]).reset_index(drop = True)\n",
    "\n",
    "    return filtered_df"
   ]
  },
  {
   "cell_type": "code",
   "execution_count": 6,
   "id": "ac4f39be-cf73-4575-80ca-d1b7d99920a0",
   "metadata": {},
   "outputs": [],
   "source": [
    "df_spending_cleaned = filter_outliers(df_spending)"
   ]
  },
  {
   "cell_type": "code",
   "execution_count": null,
   "id": "2b2b4a74-4fe8-42d1-89b4-5a157f52b09a",
   "metadata": {},
   "outputs": [],
   "source": []
  },
  {
   "cell_type": "code",
   "execution_count": 7,
   "id": "cbdcccf4-0aed-4e39-b003-0a286fa2432f",
   "metadata": {},
   "outputs": [
    {
     "name": "stdout",
     "output_type": "stream",
     "text": [
      "Number of rows before cleaning: 434\n",
      "Number of rows after cleaning: 397\n"
     ]
    }
   ],
   "source": [
    "print('Number of rows before cleaning: {}'.format(df_spending.shape[0]))\n",
    "print('Number of rows after cleaning: {}'.format(df_spending_cleaned.shape[0]))"
   ]
  },
  {
   "cell_type": "markdown",
   "id": "d7072edb-0902-436e-b84b-7ee2f7dddf4c",
   "metadata": {
    "slideshow": null
   },
   "source": [
    "### Scale your data"
   ]
  },
  {
   "cell_type": "markdown",
   "id": "074c94a3-140d-4180-9046-c0d6388db095",
   "metadata": {
    "slideshow": null
   },
   "source": [
    "Remember that K-Means clustering uses the distance between points to define clusters. This means that all features should be scaled such that their units are comparable. Otherwise, certain features may seem artificially to have more variance than others. \n",
    "\n",
    "In the case of the customers data set, all our features (annual spending on different products) are measured in the same units, so it could actually happen that scaling the data in this case would mean losing important information. This is something we need to be careful about and check. In this particular case it turns out that whether we scale the data with scikit-learn's `StandardScaler` transformer or not doesn't impact the results very much. We will scale the data here nevertheless, but again this step is even more important when dealing with features that are using units that are not comparable (for example customer income and customer age).\n",
    "\n",
    "We will scale the data with scikit-learn's `StandardScaler` transformer. As we know, it centers each feature around its mean and scales it by dividing by that feature's standard deviation. "
   ]
  },
  {
   "cell_type": "code",
   "execution_count": 8,
   "id": "40702605-5d53-44f1-83cc-1a87356db9ff",
   "metadata": {
    "slideshow": null
   },
   "outputs": [
    {
     "data": {
      "text/html": [
       "<div>\n",
       "<style scoped>\n",
       "    .dataframe tbody tr th:only-of-type {\n",
       "        vertical-align: middle;\n",
       "    }\n",
       "\n",
       "    .dataframe tbody tr th {\n",
       "        vertical-align: top;\n",
       "    }\n",
       "\n",
       "    .dataframe thead th {\n",
       "        text-align: right;\n",
       "    }\n",
       "</style>\n",
       "<table border=\"1\" class=\"dataframe\">\n",
       "  <thead>\n",
       "    <tr style=\"text-align: right;\">\n",
       "      <th></th>\n",
       "      <th>Fresh</th>\n",
       "      <th>Milk</th>\n",
       "      <th>Grocery</th>\n",
       "      <th>Frozen</th>\n",
       "      <th>Detergents_Paper</th>\n",
       "      <th>Delicatessen</th>\n",
       "    </tr>\n",
       "  </thead>\n",
       "  <tbody>\n",
       "    <tr>\n",
       "      <th>0</th>\n",
       "      <td>0.155679</td>\n",
       "      <td>1.504403</td>\n",
       "      <td>0.285557</td>\n",
       "      <td>-0.783649</td>\n",
       "      <td>0.238210</td>\n",
       "      <td>0.101340</td>\n",
       "    </tr>\n",
       "    <tr>\n",
       "      <th>1</th>\n",
       "      <td>-0.389173</td>\n",
       "      <td>1.547533</td>\n",
       "      <td>0.666579</td>\n",
       "      <td>-0.274419</td>\n",
       "      <td>0.470146</td>\n",
       "      <td>0.440277</td>\n",
       "    </tr>\n",
       "    <tr>\n",
       "      <th>2</th>\n",
       "      <td>-0.457522</td>\n",
       "      <td>1.266906</td>\n",
       "      <td>0.308908</td>\n",
       "      <td>-0.062897</td>\n",
       "      <td>0.553703</td>\n",
       "      <td>5.135868</td>\n",
       "    </tr>\n",
       "    <tr>\n",
       "      <th>3</th>\n",
       "      <td>0.213542</td>\n",
       "      <td>-0.864959</td>\n",
       "      <td>-0.348530</td>\n",
       "      <td>1.252616</td>\n",
       "      <td>-0.573752</td>\n",
       "      <td>0.449563</td>\n",
       "    </tr>\n",
       "    <tr>\n",
       "      <th>4</th>\n",
       "      <td>1.121304</td>\n",
       "      <td>0.315241</td>\n",
       "      <td>0.216643</td>\n",
       "      <td>0.433833</td>\n",
       "      <td>-0.097891</td>\n",
       "      <td>3.078258</td>\n",
       "    </tr>\n",
       "  </tbody>\n",
       "</table>\n",
       "</div>"
      ],
      "text/plain": [
       "      Fresh      Milk   Grocery    Frozen  Detergents_Paper  Delicatessen\n",
       "0  0.155679  1.504403  0.285557 -0.783649          0.238210      0.101340\n",
       "1 -0.389173  1.547533  0.666579 -0.274419          0.470146      0.440277\n",
       "2 -0.457522  1.266906  0.308908 -0.062897          0.553703      5.135868\n",
       "3  0.213542 -0.864959 -0.348530  1.252616         -0.573752      0.449563\n",
       "4  1.121304  0.315241  0.216643  0.433833         -0.097891      3.078258"
      ]
     },
     "execution_count": 8,
     "metadata": {},
     "output_type": "execute_result"
    }
   ],
   "source": [
    "from sklearn.preprocessing import StandardScaler\n",
    "\n",
    "standard_scaler = StandardScaler()\n",
    "\n",
    "df_spending_cleaned_scaled = pd.DataFrame(standard_scaler.fit_transform(df_spending_cleaned),\n",
    "                                          columns=df_spending_cleaned.columns)\n",
    "df_spending_cleaned_scaled.head()"
   ]
  },
  {
   "cell_type": "markdown",
   "id": "cf60d6dd-4f70-49e8-a06b-103c5b096298",
   "metadata": {
    "slideshow": null
   },
   "source": [
    "### Dimensionality reduction"
   ]
  },
  {
   "cell_type": "markdown",
   "id": "5fd5f495-a918-4e1f-a934-96dc7e0cdd46",
   "metadata": {
    "slideshow": null
   },
   "source": [
    "Clustering algorithms and metrics tend to be computationally complex, and this complexity scales very quickly with the number of features. As such, it is very common to reduce the dimensionality of the data before feeding into a K-Means clustering algorithm. \n",
    "\n",
    "In the previous lectures we talked about principal components analysis (PCA) as a method for reducing the number of features in data while retaining as much information as possible. While our customer data set does not have that many features we will still reduce the dimensionality before we proceed, if nothing else so that we can visualize the results.\n",
    "\n",
    "Let's first perform PCA without throwing away any components, and plot the cumulative sum of the explained variance ratio so we can see how many components are required to explain a significant amount of the variation in the data."
   ]
  },
  {
   "cell_type": "code",
   "execution_count": 9,
   "id": "58d225f8-2e4c-44ea-8ddd-ade101fc44c3",
   "metadata": {
    "slideshow": null
   },
   "outputs": [
    {
     "name": "stdout",
     "output_type": "stream",
     "text": [
      "[0.43819008 0.22495586 0.13055752 0.12127262 0.06282274 0.02220118]\n"
     ]
    },
    {
     "data": {
      "image/png": "[encoded data removed]",
      "text/plain": [
       "<Figure size 640x480 with 1 Axes>"
      ]
     },
     "metadata": {},
     "output_type": "display_data"
    }
   ],
   "source": [
    "from sklearn.decomposition import PCA\n",
    "\n",
    "pca = PCA(n_components=df_spending_cleaned_scaled.shape[1])\n",
    "\n",
    "customers_pca_transformed = pca.fit_transform(df_spending_cleaned_scaled)\n",
    "print(pca.explained_variance_ratio_)\n",
    "plt.plot(range(1, df_spending_cleaned_scaled.shape[1]+1), pca.explained_variance_ratio_.cumsum(), 'k')\n",
    "plt.xlabel(\"Number of components\")\n",
    "plt.ylabel(\"Cumulative explained variance ratio\")\n",
    "plt.title(\"Cumulative Explained Variance vs. Number of Components\");"
   ]
  },
  {
   "cell_type": "markdown",
   "id": "4376e626-36ec-4bce-9e36-412fe229adad",
   "metadata": {
    "slideshow": null
   },
   "source": [
    "It looks like we would need to use 2 components to capture 90% of the varianceIt looks like we would need to use 4 components to capture 90% of the variance, but 3 components capture 80% and choosing 3 will lend itself to inspecting the results with a visualization. So let's use a 3 PC"
   ]
  },
  {
   "cell_type": "code",
   "execution_count": 10,
   "id": "c5fb2484-91fa-4791-bc6e-88494fdaaca0",
   "metadata": {},
   "outputs": [],
   "source": [
    "pca3D = PCA(n_components=3)\n",
    "\n",
    "customers_pca_3D = pca3D.fit_transform(df_spending_cleaned_scaled)"
   ]
  },
  {
   "cell_type": "markdown",
   "id": "9903741c-008b-41d7-a781-42e14209ba0a",
   "metadata": {
    "slideshow": null
   },
   "source": [
    "### Finding clusters"
   ]
  },
  {
   "cell_type": "markdown",
   "id": "9e4a3430-d6de-4853-8175-4f4131daf710",
   "metadata": {
    "slideshow": null
   },
   "source": [
    "Now let's train a K-Means model on this data for a range of `n_clusters` values and compute the silhouette score for each model."
   ]
  },
  {
   "cell_type": "code",
   "execution_count": 11,
   "id": "b385f902-adf8-46cd-98df-7d49677e5906",
   "metadata": {
    "slideshow": null
   },
   "outputs": [
    {
     "name": "stdout",
     "output_type": "stream",
     "text": [
      "For n_clusters = 2, the average silhouette_score is : 0.4406\n",
      "For n_clusters = 3, the average silhouette_score is : 0.41832\n",
      "For n_clusters = 4, the average silhouette_score is : 0.43308\n",
      "For n_clusters = 5, the average silhouette_score is : 0.38857\n",
      "For n_clusters = 6, the average silhouette_score is : 0.36816\n",
      "For n_clusters = 7, the average silhouette_score is : 0.37229\n",
      "For n_clusters = 8, the average silhouette_score is : 0.37718\n"
     ]
    }
   ],
   "source": [
    "from sklearn.metrics import silhouette_score\n",
    "for n_clusters in range(2, 9):\n",
    "    km = KMeans(n_clusters=n_clusters)\n",
    "    km.fit(customers_pca_3D)\n",
    "    \n",
    "    # Predict the cluster for each data point\n",
    "    preds = km.predict(customers_pca_3D)\n",
    "\n",
    "    # Calculate the mean silhouette coefficient for the number of clusters chosen\n",
    "    score = silhouette_score(customers_pca_3D, preds, metric='euclidean')\n",
    "    print('For n_clusters = {}, the average silhouette_score is : {}'\n",
    "          .format(n_clusters, score.round(5)))"
   ]
  },
  {
   "cell_type": "markdown",
   "id": "3defba7f-cef2-4aac-a72c-26d5080a1049",
   "metadata": {
    "slideshow": null
   },
   "source": [
    "It looks like there are probably 2 clusters in the data, but we could also choose 4. Let's see what we get for 4 clusters. We will visualize the results of a K-Means clustering model with 4 clusters by plotting the 3D data we obtained after the PCA transformation and color each data point according to the cluster it belongs to. The plot below will have two sliders, play around with them to observe the data from different angles."
   ]
  },
  {
   "cell_type": "code",
   "execution_count": 12,
   "id": "3b94befb-b229-4486-beab-ac89fe60d922",
   "metadata": {
    "slideshow": null,
    "tags": []
   },
   "outputs": [
    {
     "data": {
      "application/vnd.jupyter.widget-view+json": {
       "model_id": "6ccb266e030648f5a2a2f478af253be4",
       "version_major": 2,
       "version_minor": 0
      },
      "text/plain": [
       "interactive(children=(IntSlider(value=50, description='azimith', max=300, step=10), IntSlider(value=20, descri…"
      ]
     },
     "metadata": {},
     "output_type": "display_data"
    }
   ],
   "source": [
    "from mpl_toolkits.mplot3d import Axes3D\n",
    "from ipywidgets import *\n",
    "from ipywidgets import IntSlider\n",
    "from ipywidgets import widgets, interactive\n",
    "\n",
    "n_clusters = 4\n",
    "kmeans = KMeans(n_clusters=n_clusters, n_init=10)\n",
    "kmeans.fit(customers_pca_3D)\n",
    "\n",
    "cols = kmeans.predict(customers_pca_3D)\n",
    "colors = ['#ba2121ff', '#42a5f5ff', '#efa016ff', '#000000ff']\n",
    "centroids = kmeans.cluster_centers_\n",
    "\n",
    "def plot_rotate(az, el):\n",
    "    fig = plt.figure()\n",
    "    ax = fig.add_subplot(111, projection='3d')\n",
    "\n",
    "    ax.view_init(elev=el, azim=az)\n",
    "\n",
    "    x = customers_pca_3D[:,0]\n",
    "    y = customers_pca_3D[:,1]\n",
    "    z = customers_pca_3D[:,2]\n",
    "    ax.set_xlabel('PC 1')\n",
    "    ax.set_ylabel('PC 2')\n",
    "    ax.set_zlabel('PC 3', rotation=90, labelpad=-2)\n",
    "\n",
    "    ax.scatter(x, y, z, marker='o', s=4, color=[colors[col] for col in cols])\n",
    "\n",
    "interact(plot_rotate, az=IntSlider(min=0, max=300, step=10, value=50, description='azimith'), \n",
    "                      el=IntSlider(min=0, max=90, step=10, value=20, description='elevation'));"
   ]
  },
  {
   "cell_type": "markdown",
   "id": "63c8d55a-31bb-4bd9-8a83-0c849003a565",
   "metadata": {
    "slideshow": null
   },
   "source": [
    "### Interpreting cluster centroids"
   ]
  },
  {
   "cell_type": "markdown",
   "id": "12641912-6c99-4f75-a297-fecee204eaa9",
   "metadata": {
    "slideshow": null
   },
   "source": [
    "We found 4 clusters and each cluster has a centroid which corresponds to the average customer of that cluster. Because we scaled our data and used PCA on it before we fed it into a K-Means model, we need to apply inverse transformations to recover average customer information."
   ]
  },
  {
   "cell_type": "code",
   "execution_count": 13,
   "id": "da5344e3-3e7b-4a41-b9ca-34d133b174c5",
   "metadata": {
    "slideshow": null
   },
   "outputs": [],
   "source": [
    "# Invert PCA\n",
    "scaled_centers = pca3D.inverse_transform(centroids)\n",
    "\n",
    "# Invert standard scaler\n",
    "true_centers = standard_scaler.inverse_transform(scaled_centers)"
   ]
  },
  {
   "cell_type": "code",
   "execution_count": 14,
   "id": "7ffdcfdb-6a70-41c7-875d-f5de85ac2c4e",
   "metadata": {
    "slideshow": null
   },
   "outputs": [
    {
     "data": {
      "text/html": [
       "<div>\n",
       "<style scoped>\n",
       "    .dataframe tbody tr th:only-of-type {\n",
       "        vertical-align: middle;\n",
       "    }\n",
       "\n",
       "    .dataframe tbody tr th {\n",
       "        vertical-align: top;\n",
       "    }\n",
       "\n",
       "    .dataframe thead th {\n",
       "        text-align: right;\n",
       "    }\n",
       "</style>\n",
       "<table border=\"1\" class=\"dataframe\">\n",
       "  <thead>\n",
       "    <tr style=\"text-align: right;\">\n",
       "      <th></th>\n",
       "      <th>Fresh</th>\n",
       "      <th>Milk</th>\n",
       "      <th>Grocery</th>\n",
       "      <th>Frozen</th>\n",
       "      <th>Detergents_Paper</th>\n",
       "      <th>Delicatessen</th>\n",
       "    </tr>\n",
       "  </thead>\n",
       "  <tbody>\n",
       "    <tr>\n",
       "      <th>typical customer 1</th>\n",
       "      <td>9458.667704</td>\n",
       "      <td>2319.741725</td>\n",
       "      <td>3122.022565</td>\n",
       "      <td>1745.679418</td>\n",
       "      <td>840.258061</td>\n",
       "      <td>586.388622</td>\n",
       "    </tr>\n",
       "    <tr>\n",
       "      <th>typical customer 2</th>\n",
       "      <td>4360.560233</td>\n",
       "      <td>8608.159429</td>\n",
       "      <td>13315.526102</td>\n",
       "      <td>1338.363598</td>\n",
       "      <td>5758.477607</td>\n",
       "      <td>1442.857783</td>\n",
       "    </tr>\n",
       "    <tr>\n",
       "      <th>typical customer 3</th>\n",
       "      <td>13623.605869</td>\n",
       "      <td>3377.307370</td>\n",
       "      <td>3721.281035</td>\n",
       "      <td>9683.026771</td>\n",
       "      <td>547.755023</td>\n",
       "      <td>1283.453041</td>\n",
       "    </tr>\n",
       "    <tr>\n",
       "      <th>typical customer 4</th>\n",
       "      <td>24836.416603</td>\n",
       "      <td>4670.331040</td>\n",
       "      <td>6092.015926</td>\n",
       "      <td>2313.515845</td>\n",
       "      <td>1264.348930</td>\n",
       "      <td>2814.533639</td>\n",
       "    </tr>\n",
       "  </tbody>\n",
       "</table>\n",
       "</div>"
      ],
      "text/plain": [
       "                           Fresh         Milk       Grocery       Frozen  \\\n",
       "typical customer 1   9458.667704  2319.741725   3122.022565  1745.679418   \n",
       "typical customer 2   4360.560233  8608.159429  13315.526102  1338.363598   \n",
       "typical customer 3  13623.605869  3377.307370   3721.281035  9683.026771   \n",
       "typical customer 4  24836.416603  4670.331040   6092.015926  2313.515845   \n",
       "\n",
       "                    Detergents_Paper  Delicatessen  \n",
       "typical customer 1        840.258061    586.388622  \n",
       "typical customer 2       5758.477607   1442.857783  \n",
       "typical customer 3        547.755023   1283.453041  \n",
       "typical customer 4       1264.348930   2814.533639  "
      ]
     },
     "execution_count": 14,
     "metadata": {},
     "output_type": "execute_result"
    }
   ],
   "source": [
    "typical_customers = pd.DataFrame(true_centers, columns=df_spending.columns, \n",
    "                                 index=['typical customer 1', 'typical customer 2', \n",
    "                                        'typical customer 3', 'typical customer 4'])\n",
    "typical_customers"
   ]
  },
  {
   "cell_type": "code",
   "execution_count": null,
   "id": "dc9fbc59-67b6-4e40-82bb-21e56bda567e",
   "metadata": {},
   "outputs": [],
   "source": []
  },
  {
   "cell_type": "code",
   "execution_count": null,
   "id": "33d14e07-7700-411c-8ff0-6978c5e3f0d2",
   "metadata": {},
   "outputs": [],
   "source": []
  }
 ],
 "metadata": {
  "kernelspec": {
   "display_name": "Python 3 (ipykernel)",
   "language": "python",
   "name": "python3"
  },
  "language_info": {
   "codemirror_mode": {
    "name": "ipython",
    "version": 3
   },
   "file_extension": ".py",
   "mimetype": "text/x-python",
   "name": "python",
   "nbconvert_exporter": "python",
   "pygments_lexer": "ipython3",
   "version": "3.10.9"
  }
 },
 "nbformat": 4,
 "nbformat_minor": 5
}
