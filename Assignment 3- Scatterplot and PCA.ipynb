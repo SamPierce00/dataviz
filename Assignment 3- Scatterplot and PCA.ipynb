{
 "cells": [
  {
   "cell_type": "markdown",
   "metadata": {},
   "source": [
    "# Assignment 3"
   ]
  },
  {
   "cell_type": "code",
   "execution_count": 2,
   "metadata": {
    "slideshow": null
   },
   "outputs": [],
   "source": [
    "import seaborn as sns\n",
    "import pandas as pd\n",
    "import numpy as np\n",
    "import matplotlib.pyplot as plt\n",
    "from sklearn.preprocessing import StandardScaler\n",
    "from sklearn.decomposition import PCA\n"
   ]
  },
  {
   "cell_type": "markdown",
   "metadata": {
    "tags": []
   },
   "source": [
    "# Problem 1 (50 points) \n",
    "For this problem we continue working with mpg data set. You can load it from seabron dataset. \n",
    "### (a) 5 points-  \n",
    "Read the data and create summary statistics for the numerical variables, including the mean, median, and standard deviation. Take care of any missing values\n",
    "### (b) 10 points\n",
    "Create a correlation matrix among the different numerical variables. Comment on your results.\n",
    "### (c) 15 points\n",
    "Perform PCA on the **standardized numerical variables** (excluding the 'cylinders'). Plot cumulative explained variance. \n",
    "How many principal components are needed to capture about 95% of the variance? Comment on your results.\n",
    "### (d) 20 points\n",
    "Create a biplot showing the different data points and the loadings for each original feature in the PC1-PC2 space. Annotate the loading vectors (arrows) and color the datapoints based on the number of cylinders. Comment on you results."
   ]
  },
  {
   "cell_type": "code",
   "execution_count": 5,
   "metadata": {},
   "outputs": [],
   "source": [
    "cars_full = sns.load_dataset('mpg')"
   ]
  },
  {
   "cell_type": "markdown",
   "metadata": {
    "tags": []
   },
   "source": [
    "# Problem 2 (50 points) \n",
    "In this problem you will look at the 30 NHL teams.\n",
    "### (a) 5 points-  \n",
    "Read the data from following link and create summary statistics for the numerical variables, including the mean, median, and standard deviation. \n",
    "### (b) 10 points\n",
    "Create a pair plot among the different numerical variables. Comment on your results.\n",
    "### (c) 15 points\n",
    "Perform PCA on the **standardized numerical variables**. Plot cumulative explained variance. \n",
    "How many principal components are needed to capture about 70% of the variance? Comment on your results.\n",
    "### (d) 20 points\n",
    "Create a biplot showing the different data points and the loadings for each original feature in the PC1-PC2 space. Annotate the loading vectors (arrows) and team names. Comment on you results."
   ]
  },
  {
   "cell_type": "code",
   "execution_count": null,
   "metadata": {},
   "outputs": [],
   "source": [
    "NHL= pd.read_csv('https://raw.githubusercontent.com/datameister66/data/master/NHLtrain.csv')"
   ]
  }
 ],
 "metadata": {
  "kernelspec": {
   "display_name": "Python 3 (ipykernel)",
   "language": "python",
   "name": "python3"
  },
  "language_info": {
   "codemirror_mode": {
    "name": "ipython",
    "version": 3
   },
   "file_extension": ".py",
   "mimetype": "text/x-python",
   "name": "python",
   "nbconvert_exporter": "python",
   "pygments_lexer": "ipython3",
   "version": "3.7.3"
  },
  "nbclean": true
 },
 "nbformat": 4,
 "nbformat_minor": 4
}
